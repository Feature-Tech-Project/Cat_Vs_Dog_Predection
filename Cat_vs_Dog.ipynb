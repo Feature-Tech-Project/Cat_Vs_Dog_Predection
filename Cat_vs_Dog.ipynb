{
 "cells": [
  {
   "cell_type": "markdown",
   "metadata": {},
   "source": [
    "# **Dog vs Cat Predection Project**\n",
    "\n",
    "> Import All The Lib... \n",
    "\n",
    "    1. Numpy \n",
    "    2. Tensorflow\n",
    "    3. Keras \n",
    "\n",
    "> Dataset --> https://www.kaggle.com/c/dogs-vs-cats/data"
   ]
  },
  {
   "cell_type": "code",
   "execution_count": 83,
   "metadata": {},
   "outputs": [
    {
     "name": "stdout",
     "output_type": "stream",
     "text": [
      "Keras  : 3.5.0\n",
      "Tensorflow  : 2.17.0\n",
      "Numpy  : 1.26.4\n"
     ]
    }
   ],
   "source": [
    "'''\n",
    "    Import all the Lib required....\n",
    "'''\n",
    "\n",
    "import tensorflow as tf\n",
    "import numpy as np\n",
    "import keras\n",
    "\n",
    "# Check the model \n",
    "\n",
    "print(f\"Keras  : {keras.__version__}\")\n",
    "print(f\"Tensorflow  : {tf.__version__}\")\n",
    "print(f\"Numpy  : {np.__version__}\")"
   ]
  },
  {
   "cell_type": "code",
   "execution_count": 84,
   "metadata": {},
   "outputs": [
    {
     "name": "stdout",
     "output_type": "stream",
     "text": [
      "Found 8000 images belonging to 2 classes.\n",
      "Found 2000 images belonging to 2 classes.\n"
     ]
    }
   ],
   "source": [
    "'''\n",
    "    Generate and rescale the image using ImageDataGenerator from Tensorflow.....\n",
    "'''\n",
    "\n",
    "# Path\n",
    "\n",
    "test_path = r\"E:\\ml\\Project\\Cat vs Dog\\Data\\test_set\"\n",
    "train_path = r\"E:\\ml\\Project\\Cat vs Dog\\Data\\training_set\"\n",
    "input_size = keras.layers.Input(shape=(224,224,3))\n",
    "\n",
    "\n",
    "training_datagen = tf.keras.preprocessing.image.ImageDataGenerator(\n",
    "    rescale = 1./255,\n",
    "    rotation_range = 20,\n",
    "    height_shift_range = 0.2,\n",
    "    width_shift_range = 0.2,\n",
    "    horizontal_flip = True\n",
    ")\n",
    "\n",
    "Validation_datagen = tf.keras.preprocessing.image.ImageDataGenerator(rescale=1./255)\n",
    "\n",
    "# Dataset...\n",
    "\n",
    "training_dataset = training_datagen.flow_from_directory(\n",
    "    train_path,\n",
    "    batch_size=16,\n",
    "    target_size = (224,224),\n",
    "    class_mode = 'categorical'\n",
    ")\n",
    "\n",
    "validation_dataset = Validation_datagen.flow_from_directory(\n",
    "    test_path,\n",
    "    batch_size = 16,\n",
    "    target_size = (224,224),\n",
    "    class_mode = 'categorical'\n",
    ")\n",
    "\n",
    "# 40% of work is done....."
   ]
  },
  {
   "cell_type": "code",
   "execution_count": null,
   "metadata": {},
   "outputs": [],
   "source": [
    "# Model Creation....\n",
    "\n",
    "input_shape = keras.layers.Input(shape=(224,224,3))\n",
    "\n",
    "model = keras.applications.VGG16(input_tensor=input_shape,include_top=True,weights='imagenet')\n",
    "# model.summary()\n",
    "lastlayer = model.get_layer('block5_pool').output\n",
    "x = keras.layers.Flatten(name='flatten')(lastlayer)\n",
    "x = keras.layers.Dense(128,activation='relu',name='d1')(x)\n",
    "x = keras.layers.Dense(128,activation='relu',name='d2')(x)\n",
    "\n",
    "# bcz we need 2 output \n",
    "# cat & Dog\n",
    "x = keras.layers.Dense(2,activation='softmax',name='Output')(x)\n",
    "\n",
    "model = keras.Model(input_shape,x)\n",
    "# model.summary()\n",
    "\n",
    "\n",
    "for layer in model.layers[:-4]:\n",
    "    layer.trainable = False\n",
    "for i  in model.layers:\n",
    "    # print(f\"{i.name}  :  {i.trainable}\")\n",
    "    pass\n",
    "\n",
    "\n",
    "# train on last 4 layers....\n",
    "\n",
    "model.compile(optimizer='adam',loss='categorical_crossentropy', metrics=['accuracy'])\n",
    "\n",
    "es = keras.callbacks.EarlyStopping(monitor='val_loss',patience=3)\n",
    "\n",
    "model.fit(\n",
    "    training_dataset,\n",
    "    validation_data=validation_dataset,\n",
    "    steps_per_epoch=8000//16,\n",
    "    validation_steps=2000//16,\n",
    "    callbacks=es,\n",
    "    epochs=5\n",
    ")\n",
    "\n"
   ]
  },
  {
   "cell_type": "code",
   "execution_count": 106,
   "metadata": {},
   "outputs": [],
   "source": [
    "def cd(t_path):\n",
    "    sample_image = keras.preprocessing.image.load_img(t_path,target_size=(224,224))\n",
    "    sample_image = keras.preprocessing.image.img_to_array(sample_image)\n",
    "    sample_image = np.expand_dims(sample_image,axis=0)\n",
    "    pred = model.predict(sample_image)\n",
    "\n",
    "    return pred\n",
    "\n"
   ]
  },
  {
   "cell_type": "markdown",
   "metadata": {},
   "source": [
    "### **Prediction Time...**"
   ]
  },
  {
   "cell_type": "code",
   "execution_count": 120,
   "metadata": {},
   "outputs": [
    {
     "name": "stdout",
     "output_type": "stream",
     "text": [
      "\u001b[1m1/1\u001b[0m \u001b[32m━━━━━━━━━━━━━━━━━━━━\u001b[0m\u001b[37m\u001b[0m \u001b[1m0s\u001b[0m 40ms/step\n"
     ]
    },
    {
     "data": {
      "text/plain": [
       "'Dog'"
      ]
     },
     "execution_count": 120,
     "metadata": {},
     "output_type": "execute_result"
    }
   ],
   "source": [
    "training_dataset.class_indices\n",
    "sample_path = r\"E:\\ml\\Project\\Cat vs Dog\\Data\\test_set\\dogs\\dog.4989.jpg\"\n",
    "\n",
    "cd(sample_path)"
   ]
  },
  {
   "cell_type": "code",
   "execution_count": null,
   "metadata": {},
   "outputs": [],
   "source": []
  },
  {
   "cell_type": "code",
   "execution_count": null,
   "metadata": {},
   "outputs": [],
   "source": []
  },
  {
   "cell_type": "code",
   "execution_count": null,
   "metadata": {},
   "outputs": [],
   "source": []
  },
  {
   "cell_type": "code",
   "execution_count": null,
   "metadata": {},
   "outputs": [],
   "source": []
  }
 ],
 "metadata": {
  "kernelspec": {
   "display_name": "Python 3",
   "language": "python",
   "name": "python3"
  },
  "language_info": {
   "codemirror_mode": {
    "name": "ipython",
    "version": 3
   },
   "file_extension": ".py",
   "mimetype": "text/x-python",
   "name": "python",
   "nbconvert_exporter": "python",
   "pygments_lexer": "ipython3",
   "version": "3.12.5"
  }
 },
 "nbformat": 4,
 "nbformat_minor": 2
}
